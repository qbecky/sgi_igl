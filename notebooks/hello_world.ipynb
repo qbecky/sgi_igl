{
 "cells": [
  {
   "cell_type": "code",
   "execution_count": null,
   "metadata": {},
   "outputs": [],
   "source": [
    "import sys as _sys\n",
    "import os\n",
    "\n",
    "current_path = os.path.abspath(os.getcwd())\n",
    "\n",
    "split = current_path.split(\"sgi_igl\")\n",
    "if len(split)<2:\n",
    "    print(\"Please rename the repository 'sgi_igl'\")\n",
    "    raise ValueError\n",
    "path_to_python_scripts = os.path.join(split[0], \"sgi_igl/python/\")\n",
    "path_to_notifications = os.path.join(split[0], \"sgi_igl/notebooks/notifications/\")\n",
    "path_to_settings = os.path.join(split[0], \"sgi_igl/python/experiments/\")\n",
    "path_to_cubic_splines = os.path.join(split[0], \"sgi_igl/ext/torchcubicspline/\")\n",
    "path_to_output = os.path.join(split[0], \"sgi_igl/output/\")\n",
    "path_to_output_snake = os.path.join(path_to_output, \"snake_all_joints/\")\n",
    "\n",
    "if not os.path.exists(path_to_output_snake):\n",
    "    os.makedirs(path_to_output_snake)\n",
    "\n",
    "_sys.path.insert(0, path_to_python_scripts)\n",
    "_sys.path.insert(0, path_to_settings)\n",
    "_sys.path.insert(0, path_to_cubic_splines)"
   ]
  },
  {
   "cell_type": "code",
   "execution_count": null,
   "metadata": {},
   "outputs": [],
   "source": [
    "import matplotlib.pyplot as plt\n",
    "import numpy as np\n",
    "import torch\n",
    "import time\n",
    "\n",
    "from geometry_io import export_snakes_to_json\n",
    "from objectives import compare_last_translation, grad_compare_last_translation\n",
    "from objectives import energy_path, grad_energy_path\n",
    "from scipy.optimize import minimize, Bounds\n",
    "from snake_shapes import snake_angles_generation\n",
    "from step_backward_edge import multiple_steps_backward_material_pos_\n",
    "from step_forward_edge import multiple_steps_forward\n",
    "from utils import print_quaternion, axis_angle_to_quaternion\n",
    "from vis_utils_snake import plot_animated_snake\n",
    "\n",
    "TORCH_DTYPE = torch.float64\n",
    "torch.set_default_dtype(TORCH_DTYPE)"
   ]
  },
  {
   "cell_type": "markdown",
   "metadata": {},
   "source": [
    "# Define initial gait and material parameters\n",
    "\n",
    "## Parameters"
   ]
  },
  {
   "cell_type": "code",
   "execution_count": null,
   "metadata": {},
   "outputs": [],
   "source": [
    "n_points_snake, n_ts = 11, 80\n",
    "n_angles = n_points_snake - 2\n",
    "edges = np.array([[idv, idv+1] for idv in range(n_points_snake-1)])\n",
    "n_edges = edges.shape[0]\n",
    "rho, eps, snake_length, close_snake_gait = 1.0e-2, 4.0e-2, 1.0, True\n",
    "broken_joint_ids, broken_joint_angles = [], torch.tensor([])\n",
    "target_translation = np.array([1.0 * snake_length, 0.0, 0.0])\n",
    "target_rotation_axis = torch.tensor([0.0, 0.0, 0.0])\n",
    "target_quaternion = axis_angle_to_quaternion(target_rotation_axis).numpy()\n",
    "gt = np.concatenate([target_quaternion, target_translation], axis=0)\n",
    "init_perturb_magnitude = 1.0e-2\n",
    "\n",
    "broken_joint_angles = broken_joint_angles.reshape(1, -1) * torch.ones(size=(n_ts-close_snake_gait, 1))\n",
    "n_op_angles = n_angles - len(broken_joint_ids)\n",
    "\n",
    "edges_torch = torch.tensor(edges)\n",
    "def fun_anisotropy_dir(x):\n",
    "    tangents = x[..., edges_torch[:, 1], :] - x[..., edges_torch[:, 0], :]\n",
    "    tangents = tangents / torch.linalg.norm(tangents, dim=-1, keepdims=True)\n",
    "    return tangents"
   ]
  },
  {
   "cell_type": "markdown",
   "metadata": {},
   "source": [
    "## Initial gait"
   ]
  },
  {
   "cell_type": "code",
   "execution_count": null,
   "metadata": {},
   "outputs": [],
   "source": [
    "operational_angles = torch.zeros(n_ts-close_snake_gait, n_op_angles)\n",
    "torch.manual_seed(0)\n",
    "operational_angles += init_perturb_magnitude * torch.randn(n_ts-close_snake_gait, n_op_angles)\n",
    "\n",
    "example_pos_ = torch.zeros(size=(n_ts, n_points_snake, 3))\n",
    "pos_ = snake_angles_generation(\n",
    "    operational_angles, snake_length, broken_joint_ids, broken_joint_angles,\n",
    "    example_pos_, n_ts, close_gait=close_snake_gait\n",
    ").numpy()\n",
    "\n",
    "tangents_ = fun_anisotropy_dir(torch.tensor(pos_)).numpy()\n",
    "\n",
    "edge_lengths = np.linalg.norm(pos_[:, 1:] - pos_[:, :-1], axis=-1)\n",
    "masses = rho * edge_lengths\n",
    "a_weights = np.ones(shape=(n_ts, n_edges))\n",
    "b_weights = (eps - 1.0) * np.ones(shape=(n_ts, n_edges))\n",
    "\n",
    "force_0 = np.zeros(shape=(3,))\n",
    "torque_0 = np.zeros(shape=(3,))"
   ]
  },
  {
   "cell_type": "markdown",
   "metadata": {},
   "source": [
    "# Compute trajectory and save"
   ]
  },
  {
   "cell_type": "code",
   "execution_count": null,
   "metadata": {},
   "outputs": [],
   "source": [
    "pos, tangents, g = multiple_steps_forward(\n",
    "    pos_, tangents_, masses, a_weights, b_weights, edges, force_0, torque_0, g0=np.array([0.0, 0.0, 0.0, 1.0, 0.0, 0.0, 0.0])\n",
    ")\n",
    "\n",
    "save_path = os.path.join(path_to_output_snake, \"hello_world.json\")\n",
    "\n",
    "export_snakes_to_json(\n",
    "    pos_, g, pos, force_0, torque_0, save_path, edges=None,\n",
    "    weights_optim=None, quantities_per_vertex=None,\n",
    "    quantities_per_edge=None, target_final_g=gt,\n",
    ")"
   ]
  },
  {
   "cell_type": "code",
   "execution_count": null,
   "metadata": {},
   "outputs": [],
   "source": [
    "alphas = np.linspace(0.1, 1.0, n_ts)\n",
    "fig = plt.figure(figsize=(10, 6))\n",
    "gs = fig.add_gridspec(1, 1)\n",
    "ax_tmp = fig.add_subplot(gs[0, 0])\n",
    "for id_step in range(n_ts):\n",
    "    ax_tmp.plot(pos[id_step, :, 0], pos[id_step, :, 1], lw=3.0, c='tab:blue', alpha=alphas[id_step], zorder=0)\n",
    "    ax_tmp.scatter(g[id_step, 4], g[id_step, 5], marker='x', s=30.0, c='tab:blue', alpha=alphas[id_step], zorder=0)\n",
    "ax_tmp.scatter(gt[4], gt[5], marker='o', s=30.0, c='tab:orange', alpha=1.0, zorder=1)\n",
    "\n",
    "ax_tmp.set_aspect('equal')\n",
    "plt.axis('off')\n",
    "plt.show()\n"
   ]
  },
  {
   "cell_type": "code",
   "execution_count": null,
   "metadata": {},
   "outputs": [],
   "source": []
  }
 ],
 "metadata": {
  "kernelspec": {
   "display_name": "sgi_igl_env",
   "language": "python",
   "name": "python3"
  },
  "language_info": {
   "codemirror_mode": {
    "name": "ipython",
    "version": 3
   },
   "file_extension": ".py",
   "mimetype": "text/x-python",
   "name": "python",
   "nbconvert_exporter": "python",
   "pygments_lexer": "ipython3",
   "version": "3.11.13"
  }
 },
 "nbformat": 4,
 "nbformat_minor": 2
}
