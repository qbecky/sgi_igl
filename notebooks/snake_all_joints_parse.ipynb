{
 "cells": [
  {
   "cell_type": "code",
   "execution_count": null,
   "metadata": {},
   "outputs": [],
   "source": [
    "import sys as _sys\n",
    "import os\n",
    "\n",
    "current_path = os.path.abspath(os.getcwd())\n",
    "\n",
    "split = current_path.split(\"sgi_igl\")\n",
    "if len(split)<2:\n",
    "    print(\"Please rename the repository 'sgi_igl'\")\n",
    "    raise ValueError\n",
    "path_to_python_scripts = os.path.join(split[0], \"sgi_igl/python/\")\n",
    "path_to_notifications = os.path.join(split[0], \"sgi_igl/notebooks/notifications/\")\n",
    "path_to_settings = os.path.join(split[0], \"sgi_igl/python/figures/\")\n",
    "path_to_cubic_splines = os.path.join(split[0], \"sgi_igl/ext/torchcubicspline/\")\n",
    "path_to_data = os.path.join(split[0], \"sgi_igl/output/\")\n",
    "path_to_save = os.path.join(split[0], \"sgi_igl/output/snake_all_joints\")\n",
    "\n",
    "_sys.path.insert(0, path_to_python_scripts)\n",
    "_sys.path.insert(0, path_to_settings)\n",
    "_sys.path.insert(0, path_to_cubic_splines)"
   ]
  },
  {
   "cell_type": "code",
   "execution_count": null,
   "metadata": {},
   "outputs": [],
   "source": [
    "import json\n",
    "import matplotlib.pyplot as plt\n",
    "import numpy as np\n",
    "import shutil\n",
    "import torch\n",
    "\n",
    "from physics_quantities_torch_edge import vmap_energy_torch\n",
    "from utils import vmap_euc_transform_torch, vmap_euc_transform_T_torch\n",
    "from vis_utils import produce_video_from_path\n",
    "from vis_utils_snake import plot_animated_snake, print_json_data"
   ]
  },
  {
   "cell_type": "code",
   "execution_count": null,
   "metadata": {},
   "outputs": [],
   "source": [
    "exp_file_names = [\n",
    "    \"snake_all_joints/snake_all_joints_opt_00.json\",\n",
    "    \"snake_all_joints/snake_all_joints_opt_01.json\",\n",
    "]\n",
    "\n",
    "list_js_loads = []\n",
    "for exp_file_name in exp_file_names:\n",
    "    with open(os.path.join(path_to_data, exp_file_name)) as jsonFile:\n",
    "        js_load = json.load(jsonFile)\n",
    "\n",
    "    print(exp_file_name)\n",
    "    print_json_data(js_load)\n",
    "    print()\n",
    "    list_js_loads.append(js_load)"
   ]
  },
  {
   "cell_type": "code",
   "execution_count": null,
   "metadata": {},
   "outputs": [],
   "source": [
    "list_energies = []\n",
    "for js_load in list_js_loads:\n",
    "\n",
    "    pos_ = torch.tensor(js_load['pos_'])\n",
    "    pos = torch.tensor(js_load['pos'])\n",
    "    n_points_snake = pos.shape[1]\n",
    "    n_ts = pos.shape[0]\n",
    "    g = torch.tensor(js_load['g'])\n",
    "    gt = torch.tensor(js_load['optimization_settings']['gt'])\n",
    "    params_opt = torch.tensor(js_load['optimization_settings']['params_opt'])\n",
    "    rho = js_load['optimization_settings']['rho']\n",
    "    eps = js_load['optimization_settings']['eps']\n",
    "    edges = np.array(js_load['optimization_settings'][\"edges\"])\n",
    "    edges_torch = torch.tensor(edges)\n",
    "    n_edges = edges.shape[0]\n",
    "    def fun_anisotropy_dir(x):\n",
    "        tangents = x[..., edges_torch[:, 1], :] - x[..., edges_torch[:, 0], :]\n",
    "        tangents = tangents / torch.linalg.norm(tangents, dim=-1, keepdims=True)\n",
    "        return tangents\n",
    "\n",
    "    tangents_ = fun_anisotropy_dir(pos_)\n",
    "    pos = vmap_euc_transform_torch(g, pos_)\n",
    "    tangents = vmap_euc_transform_T_torch(g, tangents_)\n",
    "    edge_lengths = torch.linalg.norm(pos_[:, 1:] - pos_[:, :-1], dim=-1)\n",
    "    masses = rho * edge_lengths\n",
    "    a_weights = torch.ones(size=(n_ts, n_edges))\n",
    "    b_weights = (eps - 1.0) * torch.ones(size=(n_ts, n_edges))\n",
    "\n",
    "    energies = vmap_energy_torch(\n",
    "        pos[:-1], pos[1:], tangents[:-1], tangents[1:], \n",
    "        masses[:-1], masses[1:], a_weights[:-1], a_weights[1:], \n",
    "        b_weights[:-1], b_weights[1:], torch.tensor(edges)\n",
    "    )\n",
    "    list_energies.append(energies)\n"
   ]
  },
  {
   "cell_type": "code",
   "execution_count": null,
   "metadata": {},
   "outputs": [],
   "source": [
    "fig = plt.figure(figsize=(6, 3))\n",
    "gs = fig.add_gridspec(1, 1)\n",
    "ax_tmp = fig.add_subplot(gs[0, 0])\n",
    "for energies in list_energies:\n",
    "    ax_tmp.plot(energies, lw=3.0, zorder=0)\n",
    "ax_tmp.set_title(\"Dissipation energy\", fontsize=14)\n",
    "ax_tmp.set_xlabel(\"Time step\", fontsize=12)\n",
    "ax_tmp.set_ylabel(\"Energy\", fontsize=12)\n",
    "plt.show()"
   ]
  },
  {
   "cell_type": "code",
   "execution_count": null,
   "metadata": {},
   "outputs": [],
   "source": [
    "trial_id = 0\n",
    "js_load = list_js_loads[trial_id]\n",
    "pos_plot = np.array(js_load['pos'])\n",
    "g_plot = np.array(js_load['g'])\n",
    "\n",
    "path_to_images_anim = os.path.join(path_to_save, \"images_registered\")\n",
    "arrow_params = {\n",
    "    \"length\": 0.05,\n",
    "    \"width\": 0.02,\n",
    "}\n",
    "\n",
    "# clear existing images\n",
    "if os.path.exists(path_to_images_anim):\n",
    "    shutil.rmtree(path_to_images_anim)\n",
    "os.makedirs(path_to_images_anim)\n",
    "\n",
    "plot_animated_snake(\n",
    "    pos_plot, path_to_images_anim,\n",
    "    g=g_plot, gt=gt, gcp=None,\n",
    "    exponent=1.0, xy_lim=None, \n",
    "    show_orientation=False, show_snake_trail=False, \n",
    "    show_g_trail=True, show_g_start=True,\n",
    "    arrow_params=arrow_params,\n",
    ")"
   ]
  },
  {
   "cell_type": "code",
   "execution_count": null,
   "metadata": {},
   "outputs": [],
   "source": [
    "fn_pattern = os.path.join(path_to_images_anim, \"step_%05d.png\")\n",
    "produce_video_from_path(\n",
    "    fn_pattern, path_to_save, \n",
    "    \"all_joints_{:02d}_pos.mp4\".format(trial_id), overwrite_anim=True, transparent=False\n",
    ")"
   ]
  },
  {
   "cell_type": "code",
   "execution_count": null,
   "metadata": {},
   "outputs": [],
   "source": []
  }
 ],
 "metadata": {
  "kernelspec": {
   "display_name": "sgi_igl_env",
   "language": "python",
   "name": "python3"
  },
  "language_info": {
   "codemirror_mode": {
    "name": "ipython",
    "version": 3
   },
   "file_extension": ".py",
   "mimetype": "text/x-python",
   "name": "python",
   "nbconvert_exporter": "python",
   "pygments_lexer": "ipython3",
   "version": "3.11.13"
  }
 },
 "nbformat": 4,
 "nbformat_minor": 2
}
