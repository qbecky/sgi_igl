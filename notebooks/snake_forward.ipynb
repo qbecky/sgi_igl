{
 "cells": [
  {
   "cell_type": "code",
   "execution_count": null,
   "metadata": {},
   "outputs": [],
   "source": [
    "import sys as _sys\n",
    "import os\n",
    "\n",
    "current_path = os.path.abspath(os.getcwd())\n",
    "\n",
    "split = current_path.split(\"sgi_igl\")\n",
    "if len(split)<2:\n",
    "    print(\"Please rename the repository 'sgi_igl'\")\n",
    "    raise ValueError\n",
    "path_to_python_scripts = os.path.join(split[0], \"sgi_igl/python/\")\n",
    "path_to_notifications = os.path.join(split[0], \"sgi_igl/notebooks/notifications/\")\n",
    "path_to_settings = os.path.join(split[0], \"sgi_igl/python/experiments/\")\n",
    "path_to_cubic_splines = os.path.join(split[0], \"sgi_igl/ext/torchcubicspline/\")\n",
    "path_to_output = os.path.join(split[0], \"sgi_igl/output/\")\n",
    "path_to_output_snake = os.path.join(path_to_output, \"snake_forward/\")\n",
    "\n",
    "if not os.path.exists(path_to_output_snake):\n",
    "    os.makedirs(path_to_output_snake)\n",
    "\n",
    "_sys.path.insert(0, path_to_python_scripts)\n",
    "_sys.path.insert(0, path_to_settings)\n",
    "_sys.path.insert(0, path_to_cubic_splines)"
   ]
  },
  {
   "cell_type": "code",
   "execution_count": null,
   "metadata": {},
   "outputs": [],
   "source": [
    "import numpy as np\n",
    "import shutil\n",
    "import torch\n",
    "\n",
    "from geometry_io import export_snakes_to_json\n",
    "from snake_shapes import snake_angles_generation\n",
    "from step_forward_edge import multiple_steps_forward\n",
    "from vis_utils_snake import plot_animated_snake\n",
    "from vis_utils import produce_video_from_path\n",
    "\n",
    "TORCH_DTYPE = torch.float64\n",
    "torch.set_default_dtype(TORCH_DTYPE)"
   ]
  },
  {
   "cell_type": "markdown",
   "metadata": {},
   "source": [
    "# Define initial gait and material parameters\n",
    "\n",
    "## Parameters"
   ]
  },
  {
   "cell_type": "code",
   "execution_count": null,
   "metadata": {},
   "outputs": [],
   "source": [
    "n_points_snake, n_ts = 11, 80\n",
    "n_angles = n_points_snake - 2\n",
    "edges = np.array([[idv, idv+1] for idv in range(n_points_snake-1)])\n",
    "n_edges = edges.shape[0]\n",
    "rho, eps, snake_length, close_snake_gait = 1.0e-2, 4.0e-2, 1.0, True\n",
    "# All the joints are active\n",
    "broken_joint_ids, broken_joint_angles = [], torch.tensor([])\n",
    "init_perturb_magnitude = 1.0e-1\n",
    "\n",
    "broken_joint_angles = broken_joint_angles.reshape(1, -1) * torch.ones(size=(n_ts-close_snake_gait, 1))\n",
    "n_op_angles = n_angles - len(broken_joint_ids)\n",
    "\n",
    "edges_torch = torch.tensor(edges)\n",
    "# Define the function to compute the anisotropy direction: The tangent vectors for snakes\n",
    "def fun_anisotropy_dir(x):\n",
    "    tangents = x[..., edges_torch[:, 1], :] - x[..., edges_torch[:, 0], :]\n",
    "    tangents = tangents / torch.linalg.norm(tangents, dim=-1, keepdims=True)\n",
    "    return tangents"
   ]
  },
  {
   "cell_type": "markdown",
   "metadata": {},
   "source": [
    "## Initial gait\n",
    "\n",
    "We set the angles to random values, which results in a jagged shape sequence. You can replace it with any sequence you like."
   ]
  },
  {
   "cell_type": "code",
   "execution_count": null,
   "metadata": {},
   "outputs": [],
   "source": [
    "# Define the operational angles sequence\n",
    "operational_angles = torch.zeros(n_ts-close_snake_gait, n_op_angles)\n",
    "torch.manual_seed(0)\n",
    "operational_angles += init_perturb_magnitude * torch.randn(n_ts-close_snake_gait, n_op_angles)\n",
    "\n",
    "example_pos_ = torch.zeros(size=(n_ts, n_points_snake, 3))\n",
    "pos_ = snake_angles_generation(\n",
    "    operational_angles, snake_length, broken_joint_ids, broken_joint_angles,\n",
    "    example_pos_, n_ts, close_gait=close_snake_gait\n",
    ").numpy()\n",
    "\n",
    "tangents_ = fun_anisotropy_dir(torch.tensor(pos_)).numpy()\n",
    "\n",
    "edge_lengths = np.linalg.norm(pos_[:, 1:] - pos_[:, :-1], axis=-1)\n",
    "masses = rho * edge_lengths\n",
    "a_weights = np.ones(shape=(n_ts, n_edges))\n",
    "b_weights = (eps - 1.0) * np.ones(shape=(n_ts, n_edges))\n",
    "\n",
    "force_0 = np.zeros(shape=(3,))\n",
    "torque_0 = np.zeros(shape=(3,))"
   ]
  },
  {
   "cell_type": "code",
   "execution_count": null,
   "metadata": {},
   "outputs": [],
   "source": [
    "path_to_images_anim = os.path.join(path_to_output_snake, \"images_anim/\")\n",
    "\n",
    "# clear existing images\n",
    "if os.path.exists(path_to_images_anim):\n",
    "    shutil.rmtree(path_to_images_anim)\n",
    "os.makedirs(path_to_images_anim)\n",
    "\n",
    "plot_animated_snake(\n",
    "    pos_, path_to_images_anim,\n",
    "    g=None, gt=None, gcp=None,\n",
    "    exponent=1.0, xy_lim=None, \n",
    "    show_orientation=False, show_snake_trail=False, \n",
    "    show_g_trail=True, show_g_start=True,\n",
    "    arrow_params=None, min_aspect_ratio=1.0,\n",
    "    padding_mult_xy=np.array([0.05, 0.2]),\n",
    ")"
   ]
  },
  {
   "cell_type": "code",
   "execution_count": null,
   "metadata": {},
   "outputs": [],
   "source": [
    "fn_pattern = os.path.join(path_to_images_anim, \"step_%05d.png\")\n",
    "produce_video_from_path(\n",
    "    fn_pattern, path_to_output_snake, \n",
    "    \"forward_pos_.mp4\", overwrite_anim=True, transparent=False\n",
    ")"
   ]
  },
  {
   "cell_type": "markdown",
   "metadata": {},
   "source": [
    "# Compute trajectory and save\n",
    "\n",
    "Run the forward simulation using your shape sequence and save the resulting trajectory."
   ]
  },
  {
   "cell_type": "code",
   "execution_count": null,
   "metadata": {},
   "outputs": [],
   "source": [
    "pos, tangents, g = multiple_steps_forward(\n",
    "    pos_, tangents_, masses, a_weights, b_weights, edges, force_0, torque_0, g0=np.array([0.0, 0.0, 0.0, 1.0, 0.0, 0.0, 0.0])\n",
    ")\n",
    "\n",
    "save_path = os.path.join(path_to_output_snake, \"forward.json\")\n",
    "\n",
    "export_snakes_to_json(\n",
    "    pos_, g, pos, force_0, torque_0, save_path, edges=None,\n",
    "    weights_optim=None, quantities_per_vertex=None,\n",
    "    quantities_per_edge=None, target_final_g=None,\n",
    ")"
   ]
  },
  {
   "cell_type": "code",
   "execution_count": null,
   "metadata": {},
   "outputs": [],
   "source": [
    "path_to_images_anim = os.path.join(path_to_output_snake, \"images_traj_anim/\")\n",
    "\n",
    "# clear existing images\n",
    "if os.path.exists(path_to_images_anim):\n",
    "    shutil.rmtree(path_to_images_anim)\n",
    "os.makedirs(path_to_images_anim)\n",
    "\n",
    "plot_animated_snake(\n",
    "    pos, path_to_images_anim,\n",
    "    g=g, gt=None, gcp=None,\n",
    "    exponent=1.0, xy_lim=None, \n",
    "    show_orientation=False, show_snake_trail=False, \n",
    "    show_g_trail=True, show_g_start=True,\n",
    "    arrow_params=None, min_aspect_ratio=1.0,\n",
    "    padding_mult_xy=np.array([0.05, 0.2]),\n",
    ")"
   ]
  },
  {
   "cell_type": "code",
   "execution_count": null,
   "metadata": {},
   "outputs": [],
   "source": [
    "fn_pattern = os.path.join(path_to_images_anim, \"step_%05d.png\")\n",
    "produce_video_from_path(\n",
    "    fn_pattern, path_to_output_snake, \n",
    "    \"forward_pos.mp4\", overwrite_anim=True, transparent=False\n",
    ")"
   ]
  },
  {
   "cell_type": "code",
   "execution_count": null,
   "metadata": {},
   "outputs": [],
   "source": []
  }
 ],
 "metadata": {
  "kernelspec": {
   "display_name": "sgi_igl_env",
   "language": "python",
   "name": "python3"
  },
  "language_info": {
   "codemirror_mode": {
    "name": "ipython",
    "version": 3
   },
   "file_extension": ".py",
   "mimetype": "text/x-python",
   "name": "python",
   "nbconvert_exporter": "python",
   "pygments_lexer": "ipython3",
   "version": "3.11.13"
  }
 },
 "nbformat": 4,
 "nbformat_minor": 2
}
