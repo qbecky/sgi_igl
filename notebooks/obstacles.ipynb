{
 "cells": [
  {
   "cell_type": "code",
   "execution_count": null,
   "metadata": {},
   "outputs": [],
   "source": [
    "import sys as _sys\n",
    "import os\n",
    "\n",
    "current_path = os.path.abspath(os.getcwd())\n",
    "\n",
    "split = current_path.split(\"sgi_igl\")\n",
    "if len(split)<2:\n",
    "    print(\"Please rename the repository 'sgi_igl'\")\n",
    "    raise ValueError\n",
    "path_to_python_scripts = os.path.join(split[0], \"sgi_igl/python/\")\n",
    "path_to_cubic_splines = os.path.join(split[0], \"sgi_igl/ext/torchcubicspline/\")\n",
    "path_to_output = os.path.join(split[0], \"sgi_igl/output/\")\n",
    "path_to_output_obstacle = os.path.join(path_to_output, \"obstacles/\")\n",
    "\n",
    "if not os.path.exists(path_to_output_obstacle):\n",
    "    os.makedirs(path_to_output_obstacle)\n",
    "\n",
    "_sys.path.insert(0, path_to_python_scripts)\n",
    "_sys.path.insert(0, path_to_cubic_splines)"
   ]
  },
  {
   "cell_type": "code",
   "execution_count": null,
   "metadata": {},
   "outputs": [],
   "source": [
    "import numpy as np\n",
    "import torch\n",
    "from obstacle_implicits import BoxImplicit, SphereImplicit, ComplementaryImplicit, UnionImplicit, IntersectionImplicit, RotateImplicit, ScaleImplicit, TranslateImplicit, generate_siggraph_implicit, MoonImplicit\n",
    "from vis_utils import plot_sdf_2d\n"
   ]
  },
  {
   "cell_type": "markdown",
   "metadata": {},
   "source": [
    "# SDF of a box"
   ]
  },
  {
   "cell_type": "code",
   "execution_count": null,
   "metadata": {},
   "outputs": [],
   "source": [
    "n_plot = 100\n",
    "x_plot = torch.linspace(0.0, 1.0, n_plot)\n",
    "xyz_plot = torch.stack([\n",
    "    torch.tile(x_plot, dims=(n_plot,)),\n",
    "    torch.repeat_interleave(x_plot, repeats=n_plot, dim=0),\n",
    "    torch.zeros(size=(n_plot*n_plot,))\n",
    "], dim=1)\n",
    "\n",
    "box_center = torch.tensor([0.4, 0.6, 0.0])\n",
    "box_dims = torch.tensor([0.3, 0.2, 0.5])\n",
    "box_params = torch.cat([box_center, box_dims], dim=0)\n",
    "\n",
    "box_implicit = BoxImplicit(box_params)\n",
    "\n",
    "sdfs = box_implicit.evaluate_implicit_function(xyz_plot).reshape(n_plot, n_plot)\n",
    "\n",
    "plot_sdf_2d(x_plot, x_plot, sdfs, n_levels=15, show_text=False, filename=None)\n"
   ]
  },
  {
   "cell_type": "markdown",
   "metadata": {},
   "source": [
    "# Get the Union"
   ]
  },
  {
   "cell_type": "code",
   "execution_count": null,
   "metadata": {},
   "outputs": [],
   "source": [
    "sphere_params = torch.tensor([0.5, 0.4, 0.0, 0.3])\n",
    "sphere_implicit = SphereImplicit(sphere_params)\n",
    "union_implicit = UnionImplicit([box_implicit, sphere_implicit])\n",
    "\n",
    "sdfs = union_implicit.evaluate_implicit_function(xyz_plot).reshape(n_plot, n_plot)\n",
    "\n",
    "plot_sdf_2d(x_plot, x_plot, sdfs, n_levels=15, show_text=False, filename=None)"
   ]
  },
  {
   "cell_type": "markdown",
   "metadata": {},
   "source": [
    "# Get the Complementary"
   ]
  },
  {
   "cell_type": "code",
   "execution_count": null,
   "metadata": {},
   "outputs": [],
   "source": [
    "sphere_complementary_implicit = ComplementaryImplicit(sphere_implicit)\n",
    "\n",
    "sdfs = sphere_complementary_implicit.evaluate_implicit_function(xyz_plot).reshape(n_plot, n_plot)\n",
    "\n",
    "plot_sdf_2d(x_plot, x_plot, sdfs, n_levels=15, show_text=False, filename=None)"
   ]
  },
  {
   "cell_type": "markdown",
   "metadata": {},
   "source": [
    "# Intersect Complementary and original Box"
   ]
  },
  {
   "cell_type": "code",
   "execution_count": null,
   "metadata": {},
   "outputs": [],
   "source": [
    "intersection_implicit = IntersectionImplicit([box_implicit, sphere_complementary_implicit])\n",
    "\n",
    "sdfs = intersection_implicit.evaluate_implicit_function(xyz_plot).reshape(n_plot, n_plot)\n",
    "\n",
    "plot_sdf_2d(x_plot, x_plot, sdfs, n_levels=15, show_text=False, filename=None)"
   ]
  },
  {
   "cell_type": "markdown",
   "metadata": {},
   "source": [
    "# Siggraph logo approximation"
   ]
  },
  {
   "cell_type": "code",
   "execution_count": null,
   "metadata": {},
   "outputs": [],
   "source": [
    "n_plot = 100\n",
    "x_plot = torch.linspace(-3.0, 3.0, n_plot)\n",
    "xyz_plot = torch.stack([\n",
    "    torch.tile(x_plot, dims=(n_plot,)),\n",
    "    torch.repeat_interleave(x_plot, repeats=n_plot, dim=0),\n",
    "    torch.zeros(size=(n_plot*n_plot,))\n",
    "], dim=1)\n",
    "\n",
    "angle_rot = np.pi / 5.0\n",
    "translate_implicit = torch.tensor([-1.5, 0.1, 0.0])\n",
    "scale_implicit = torch.tensor([1.0, 1.0, 1.0])\n",
    "siggraph_implicit = generate_siggraph_implicit(angle_rotation=angle_rot, translation=translate_implicit, scale=scale_implicit)\n",
    "\n",
    "sdfs = siggraph_implicit.evaluate_implicit_function(xyz_plot).reshape(n_plot, n_plot)\n",
    "\n",
    "plot_sdf_2d(x_plot, x_plot, sdfs, n_levels=15, show_text=False, filename=None)"
   ]
  },
  {
   "cell_type": "markdown",
   "metadata": {},
   "source": [
    "# Exact- vs Pseudo-SDFs\n",
    "\n",
    "## Exact SDF of the moon"
   ]
  },
  {
   "cell_type": "code",
   "execution_count": null,
   "metadata": {},
   "outputs": [],
   "source": [
    "n_plot = 1000\n",
    "x_plot = torch.linspace(-1.0, 1.0, n_plot)\n",
    "xyz_plot = torch.stack([\n",
    "    torch.tile(x_plot, dims=(n_plot,)),\n",
    "    torch.repeat_interleave(x_plot, repeats=n_plot, dim=0),\n",
    "    torch.zeros(size=(n_plot*n_plot,))\n",
    "], dim=1)\n",
    "\n",
    "moon_params = torch.tensor([0.7, 0.5, 0.3])\n",
    "moon_implicit = ComplementaryImplicit(MoonImplicit(moon_params))\n",
    "moon_implicit = MoonImplicit(moon_params)\n",
    "\n",
    "sdfs = moon_implicit.evaluate_implicit_function(xyz_plot).reshape(n_plot, n_plot)\n",
    "\n",
    "plot_sdf_2d(x_plot, x_plot, sdfs, n_levels=15, show_text=False, filename=os.path.join(path_to_output_obstacle, \"moon_sdf.png\"))"
   ]
  },
  {
   "cell_type": "markdown",
   "metadata": {},
   "source": [
    "## Pseudo-SDF as an intersection"
   ]
  },
  {
   "cell_type": "code",
   "execution_count": null,
   "metadata": {},
   "outputs": [],
   "source": [
    "sphere_inside_params = torch.tensor([moon_params[2], 0.0, 0.0, moon_params[1]])\n",
    "sphere_outside_params = torch.tensor([0.0, 0.0, 0.0, moon_params[0]])\n",
    "sphere_inside_implicit = SphereImplicit(sphere_inside_params)\n",
    "sphere_inside_comp_implicit = ComplementaryImplicit(sphere_inside_implicit)\n",
    "sphere_outside_implicit = SphereImplicit(sphere_outside_params)\n",
    "moon_intersection_implicit = ComplementaryImplicit(IntersectionImplicit([sphere_inside_comp_implicit, sphere_outside_implicit]))\n",
    "moon_intersection_implicit = IntersectionImplicit([sphere_inside_comp_implicit, sphere_outside_implicit])\n",
    "\n",
    "sdfs = moon_intersection_implicit.evaluate_implicit_function(xyz_plot).reshape(n_plot, n_plot)\n",
    "\n",
    "plot_sdf_2d(x_plot, x_plot, sdfs, n_levels=15, show_text=False, filename=os.path.join(path_to_output_obstacle, \"moon_pseudo_sdf.png\"))"
   ]
  },
  {
   "cell_type": "code",
   "execution_count": null,
   "metadata": {},
   "outputs": [],
   "source": []
  },
  {
   "cell_type": "code",
   "execution_count": null,
   "metadata": {},
   "outputs": [],
   "source": [
    "sphere_inside_params = torch.tensor([moon_params[2], 0.0, 0.0, moon_params[1]])\n",
    "sphere_outside_params = torch.tensor([0.0, 0.0, 0.0, moon_params[0]])\n",
    "sphere_inside_implicit = SphereImplicit(sphere_inside_params)\n",
    "sphere_inside_comp_implicit = ComplementaryImplicit(sphere_inside_implicit)\n",
    "sphere_outside_implicit = SphereImplicit(sphere_outside_params)\n",
    "moon_intersection_implicit = ComplementaryImplicit(IntersectionImplicit([sphere_inside_comp_implicit, sphere_outside_implicit]))\n",
    "\n",
    "sdfs = moon_intersection_implicit.evaluate_implicit_function(xyz_plot).reshape(n_plot, n_plot)\n",
    "\n",
    "plot_sdf_2d(x_plot, x_plot, sdfs, n_levels=15, show_text=False, filename=None)"
   ]
  },
  {
   "cell_type": "code",
   "execution_count": null,
   "metadata": {},
   "outputs": [],
   "source": []
  }
 ],
 "metadata": {
  "kernelspec": {
   "display_name": "mfsc_env",
   "language": "python",
   "name": "python3"
  },
  "language_info": {
   "codemirror_mode": {
    "name": "ipython",
    "version": 3
   },
   "file_extension": ".py",
   "mimetype": "text/x-python",
   "name": "python",
   "nbconvert_exporter": "python",
   "pygments_lexer": "ipython3",
   "version": "3.11.9"
  }
 },
 "nbformat": 4,
 "nbformat_minor": 2
}
